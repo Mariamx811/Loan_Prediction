{
 "cells": [
  {
   "cell_type": "markdown",
   "id": "60e2bd83",
   "metadata": {},
   "source": [
    "<h1>Preprocessing<h1>"
   ]
  },
  {
   "cell_type": "code",
   "execution_count": 40,
   "id": "9f70bef2",
   "metadata": {},
   "outputs": [],
   "source": [
    "import pandas as pd\n",
    "import numpy as np\n",
    "from scipy import stats\n",
    "from sklearn import preprocessing\n",
    "from sklearn.preprocessing import StandardScaler\n",
    "import matplotlib.pyplot as plt\n",
    "from sklearn.preprocessing import MinMaxScaler\n",
    "from sklearn.model_selection import GridSearchCV\n",
    "import seaborn as sb\n",
    "from sklearn.ensemble import VotingClassifier\n",
    "from sklearn.neighbors import KNeighborsClassifier"
   ]
  },
  {
   "cell_type": "code",
   "execution_count": 41,
   "id": "b5b05fea",
   "metadata": {},
   "outputs": [],
   "source": [
    "df = pd.read_csv(r\"C:\\Users\\Dell\\Downloads\\loan_data.csv\")"
   ]
  },
  {
   "cell_type": "code",
   "execution_count": 42,
   "id": "26cc0a36",
   "metadata": {},
   "outputs": [],
   "source": [
    "df.drop('Loan_ID' , axis = 1 , inplace = True)"
   ]
  },
  {
   "cell_type": "code",
   "execution_count": 43,
   "id": "0e36697f",
   "metadata": {
    "scrolled": true
   },
   "outputs": [
    {
     "data": {
      "text/html": [
       "<div>\n",
       "<style scoped>\n",
       "    .dataframe tbody tr th:only-of-type {\n",
       "        vertical-align: middle;\n",
       "    }\n",
       "\n",
       "    .dataframe tbody tr th {\n",
       "        vertical-align: top;\n",
       "    }\n",
       "\n",
       "    .dataframe thead th {\n",
       "        text-align: right;\n",
       "    }\n",
       "</style>\n",
       "<table border=\"1\" class=\"dataframe\">\n",
       "  <thead>\n",
       "    <tr style=\"text-align: right;\">\n",
       "      <th></th>\n",
       "      <th>Gender</th>\n",
       "      <th>Married</th>\n",
       "      <th>Dependents</th>\n",
       "      <th>Education</th>\n",
       "      <th>Self_Employed</th>\n",
       "      <th>ApplicantIncome</th>\n",
       "      <th>CoapplicantIncome</th>\n",
       "      <th>LoanAmount</th>\n",
       "      <th>Loan_Amount_Term</th>\n",
       "      <th>Credit_History</th>\n",
       "      <th>Property_Area</th>\n",
       "      <th>Loan_Status</th>\n",
       "    </tr>\n",
       "  </thead>\n",
       "  <tbody>\n",
       "    <tr>\n",
       "      <th>0</th>\n",
       "      <td>Male</td>\n",
       "      <td>No</td>\n",
       "      <td>0</td>\n",
       "      <td>Graduate</td>\n",
       "      <td>No</td>\n",
       "      <td>5849</td>\n",
       "      <td>0.0</td>\n",
       "      <td>NaN</td>\n",
       "      <td>360.0</td>\n",
       "      <td>1.0</td>\n",
       "      <td>Urban</td>\n",
       "      <td>Y</td>\n",
       "    </tr>\n",
       "    <tr>\n",
       "      <th>1</th>\n",
       "      <td>Male</td>\n",
       "      <td>Yes</td>\n",
       "      <td>1</td>\n",
       "      <td>Graduate</td>\n",
       "      <td>No</td>\n",
       "      <td>4583</td>\n",
       "      <td>1508.0</td>\n",
       "      <td>128.0</td>\n",
       "      <td>360.0</td>\n",
       "      <td>1.0</td>\n",
       "      <td>Rural</td>\n",
       "      <td>N</td>\n",
       "    </tr>\n",
       "    <tr>\n",
       "      <th>2</th>\n",
       "      <td>Male</td>\n",
       "      <td>Yes</td>\n",
       "      <td>0</td>\n",
       "      <td>Graduate</td>\n",
       "      <td>Yes</td>\n",
       "      <td>3000</td>\n",
       "      <td>0.0</td>\n",
       "      <td>66.0</td>\n",
       "      <td>360.0</td>\n",
       "      <td>1.0</td>\n",
       "      <td>Urban</td>\n",
       "      <td>Y</td>\n",
       "    </tr>\n",
       "    <tr>\n",
       "      <th>3</th>\n",
       "      <td>Male</td>\n",
       "      <td>Yes</td>\n",
       "      <td>0</td>\n",
       "      <td>Not Graduate</td>\n",
       "      <td>No</td>\n",
       "      <td>2583</td>\n",
       "      <td>2358.0</td>\n",
       "      <td>120.0</td>\n",
       "      <td>360.0</td>\n",
       "      <td>1.0</td>\n",
       "      <td>Urban</td>\n",
       "      <td>Y</td>\n",
       "    </tr>\n",
       "    <tr>\n",
       "      <th>4</th>\n",
       "      <td>Male</td>\n",
       "      <td>No</td>\n",
       "      <td>0</td>\n",
       "      <td>Graduate</td>\n",
       "      <td>No</td>\n",
       "      <td>6000</td>\n",
       "      <td>0.0</td>\n",
       "      <td>141.0</td>\n",
       "      <td>360.0</td>\n",
       "      <td>1.0</td>\n",
       "      <td>Urban</td>\n",
       "      <td>Y</td>\n",
       "    </tr>\n",
       "  </tbody>\n",
       "</table>\n",
       "</div>"
      ],
      "text/plain": [
       "  Gender Married Dependents     Education Self_Employed  ApplicantIncome  \\\n",
       "0   Male      No          0      Graduate            No             5849   \n",
       "1   Male     Yes          1      Graduate            No             4583   \n",
       "2   Male     Yes          0      Graduate           Yes             3000   \n",
       "3   Male     Yes          0  Not Graduate            No             2583   \n",
       "4   Male      No          0      Graduate            No             6000   \n",
       "\n",
       "   CoapplicantIncome  LoanAmount  Loan_Amount_Term  Credit_History  \\\n",
       "0                0.0         NaN             360.0             1.0   \n",
       "1             1508.0       128.0             360.0             1.0   \n",
       "2                0.0        66.0             360.0             1.0   \n",
       "3             2358.0       120.0             360.0             1.0   \n",
       "4                0.0       141.0             360.0             1.0   \n",
       "\n",
       "  Property_Area Loan_Status  \n",
       "0         Urban           Y  \n",
       "1         Rural           N  \n",
       "2         Urban           Y  \n",
       "3         Urban           Y  \n",
       "4         Urban           Y  "
      ]
     },
     "execution_count": 43,
     "metadata": {},
     "output_type": "execute_result"
    }
   ],
   "source": [
    "df.head()\n"
   ]
  },
  {
   "cell_type": "code",
   "execution_count": 44,
   "id": "3d1b4ad0",
   "metadata": {},
   "outputs": [],
   "source": [
    "df[\"Gender\"] = df[\"Gender\"].replace({\n",
    "    \"Male\" : 1,\n",
    "    \"Female\" : 0\n",
    "})"
   ]
  },
  {
   "cell_type": "code",
   "execution_count": 45,
   "id": "b1ffb1e8",
   "metadata": {},
   "outputs": [],
   "source": [
    "df[\"Married\"] = df[\"Married\"].replace({\n",
    "    \"Yes\" : 1,\n",
    "    \"No\" : 0\n",
    "})"
   ]
  },
  {
   "cell_type": "code",
   "execution_count": 46,
   "id": "3c5401d7",
   "metadata": {},
   "outputs": [],
   "source": [
    "df[\"Self_Employed\"] = df[\"Self_Employed\"].replace({\n",
    "    \"Yes\" : 1,\n",
    "    \"No\" : 0\n",
    "})"
   ]
  },
  {
   "cell_type": "code",
   "execution_count": 47,
   "id": "92a3775b",
   "metadata": {},
   "outputs": [],
   "source": [
    "df[\"Education\"] = df[\"Education\"].replace({\n",
    "    \"Graduate\" : 1,\n",
    "    \"Not Graduate\" : 0\n",
    "})"
   ]
  },
  {
   "cell_type": "code",
   "execution_count": 48,
   "id": "70659c0b",
   "metadata": {},
   "outputs": [],
   "source": [
    "df[\"Property_Area\"] = df[\"Property_Area\"].replace({\n",
    "    \"Urban\" : 0,\n",
    "    \"Rural\" : 1,\n",
    "    \"Semiurban\" : 2\n",
    "})"
   ]
  },
  {
   "cell_type": "code",
   "execution_count": 49,
   "id": "2722970d",
   "metadata": {},
   "outputs": [
    {
     "data": {
      "text/plain": [
       "array([0, 1, 2], dtype=int64)"
      ]
     },
     "execution_count": 49,
     "metadata": {},
     "output_type": "execute_result"
    }
   ],
   "source": [
    "df[\"Property_Area\"].unique()"
   ]
  },
  {
   "cell_type": "code",
   "execution_count": 50,
   "id": "59ffdcde",
   "metadata": {},
   "outputs": [],
   "source": [
    "df[\"Loan_Status\"] = df[\"Loan_Status\"].replace({\n",
    "    \"Y\" : 1,\n",
    "    \"N\" : 0\n",
    "})"
   ]
  },
  {
   "cell_type": "code",
   "execution_count": 51,
   "id": "6dcf072f",
   "metadata": {},
   "outputs": [
    {
     "data": {
      "text/html": [
       "<div>\n",
       "<style scoped>\n",
       "    .dataframe tbody tr th:only-of-type {\n",
       "        vertical-align: middle;\n",
       "    }\n",
       "\n",
       "    .dataframe tbody tr th {\n",
       "        vertical-align: top;\n",
       "    }\n",
       "\n",
       "    .dataframe thead th {\n",
       "        text-align: right;\n",
       "    }\n",
       "</style>\n",
       "<table border=\"1\" class=\"dataframe\">\n",
       "  <thead>\n",
       "    <tr style=\"text-align: right;\">\n",
       "      <th></th>\n",
       "      <th>Gender</th>\n",
       "      <th>Married</th>\n",
       "      <th>Dependents</th>\n",
       "      <th>Education</th>\n",
       "      <th>Self_Employed</th>\n",
       "      <th>ApplicantIncome</th>\n",
       "      <th>CoapplicantIncome</th>\n",
       "      <th>LoanAmount</th>\n",
       "      <th>Loan_Amount_Term</th>\n",
       "      <th>Credit_History</th>\n",
       "      <th>Property_Area</th>\n",
       "      <th>Loan_Status</th>\n",
       "    </tr>\n",
       "  </thead>\n",
       "  <tbody>\n",
       "    <tr>\n",
       "      <th>0</th>\n",
       "      <td>1.0</td>\n",
       "      <td>0.0</td>\n",
       "      <td>0</td>\n",
       "      <td>1</td>\n",
       "      <td>0.0</td>\n",
       "      <td>5849</td>\n",
       "      <td>0.0</td>\n",
       "      <td>NaN</td>\n",
       "      <td>360.0</td>\n",
       "      <td>1.0</td>\n",
       "      <td>0</td>\n",
       "      <td>1</td>\n",
       "    </tr>\n",
       "    <tr>\n",
       "      <th>1</th>\n",
       "      <td>1.0</td>\n",
       "      <td>1.0</td>\n",
       "      <td>1</td>\n",
       "      <td>1</td>\n",
       "      <td>0.0</td>\n",
       "      <td>4583</td>\n",
       "      <td>1508.0</td>\n",
       "      <td>128.0</td>\n",
       "      <td>360.0</td>\n",
       "      <td>1.0</td>\n",
       "      <td>1</td>\n",
       "      <td>0</td>\n",
       "    </tr>\n",
       "    <tr>\n",
       "      <th>2</th>\n",
       "      <td>1.0</td>\n",
       "      <td>1.0</td>\n",
       "      <td>0</td>\n",
       "      <td>1</td>\n",
       "      <td>1.0</td>\n",
       "      <td>3000</td>\n",
       "      <td>0.0</td>\n",
       "      <td>66.0</td>\n",
       "      <td>360.0</td>\n",
       "      <td>1.0</td>\n",
       "      <td>0</td>\n",
       "      <td>1</td>\n",
       "    </tr>\n",
       "    <tr>\n",
       "      <th>3</th>\n",
       "      <td>1.0</td>\n",
       "      <td>1.0</td>\n",
       "      <td>0</td>\n",
       "      <td>0</td>\n",
       "      <td>0.0</td>\n",
       "      <td>2583</td>\n",
       "      <td>2358.0</td>\n",
       "      <td>120.0</td>\n",
       "      <td>360.0</td>\n",
       "      <td>1.0</td>\n",
       "      <td>0</td>\n",
       "      <td>1</td>\n",
       "    </tr>\n",
       "    <tr>\n",
       "      <th>4</th>\n",
       "      <td>1.0</td>\n",
       "      <td>0.0</td>\n",
       "      <td>0</td>\n",
       "      <td>1</td>\n",
       "      <td>0.0</td>\n",
       "      <td>6000</td>\n",
       "      <td>0.0</td>\n",
       "      <td>141.0</td>\n",
       "      <td>360.0</td>\n",
       "      <td>1.0</td>\n",
       "      <td>0</td>\n",
       "      <td>1</td>\n",
       "    </tr>\n",
       "  </tbody>\n",
       "</table>\n",
       "</div>"
      ],
      "text/plain": [
       "   Gender  Married Dependents  Education  Self_Employed  ApplicantIncome  \\\n",
       "0     1.0      0.0          0          1            0.0             5849   \n",
       "1     1.0      1.0          1          1            0.0             4583   \n",
       "2     1.0      1.0          0          1            1.0             3000   \n",
       "3     1.0      1.0          0          0            0.0             2583   \n",
       "4     1.0      0.0          0          1            0.0             6000   \n",
       "\n",
       "   CoapplicantIncome  LoanAmount  Loan_Amount_Term  Credit_History  \\\n",
       "0                0.0         NaN             360.0             1.0   \n",
       "1             1508.0       128.0             360.0             1.0   \n",
       "2                0.0        66.0             360.0             1.0   \n",
       "3             2358.0       120.0             360.0             1.0   \n",
       "4                0.0       141.0             360.0             1.0   \n",
       "\n",
       "   Property_Area  Loan_Status  \n",
       "0              0            1  \n",
       "1              1            0  \n",
       "2              0            1  \n",
       "3              0            1  \n",
       "4              0            1  "
      ]
     },
     "execution_count": 51,
     "metadata": {},
     "output_type": "execute_result"
    }
   ],
   "source": [
    "df.head()"
   ]
  },
  {
   "cell_type": "code",
   "execution_count": 52,
   "id": "8c630395",
   "metadata": {},
   "outputs": [
    {
     "name": "stdout",
     "output_type": "stream",
     "text": [
      "<class 'pandas.core.frame.DataFrame'>\n",
      "RangeIndex: 614 entries, 0 to 613\n",
      "Data columns (total 12 columns):\n",
      " #   Column             Non-Null Count  Dtype  \n",
      "---  ------             --------------  -----  \n",
      " 0   Gender             601 non-null    float64\n",
      " 1   Married            611 non-null    float64\n",
      " 2   Dependents         599 non-null    object \n",
      " 3   Education          614 non-null    int64  \n",
      " 4   Self_Employed      582 non-null    float64\n",
      " 5   ApplicantIncome    614 non-null    int64  \n",
      " 6   CoapplicantIncome  614 non-null    float64\n",
      " 7   LoanAmount         592 non-null    float64\n",
      " 8   Loan_Amount_Term   600 non-null    float64\n",
      " 9   Credit_History     564 non-null    float64\n",
      " 10  Property_Area      614 non-null    int64  \n",
      " 11  Loan_Status        614 non-null    int64  \n",
      "dtypes: float64(7), int64(4), object(1)\n",
      "memory usage: 57.7+ KB\n"
     ]
    }
   ],
   "source": [
    "df.info()"
   ]
  },
  {
   "cell_type": "code",
   "execution_count": 53,
   "id": "cf0ed3e0",
   "metadata": {},
   "outputs": [
    {
     "data": {
      "text/html": [
       "<div>\n",
       "<style scoped>\n",
       "    .dataframe tbody tr th:only-of-type {\n",
       "        vertical-align: middle;\n",
       "    }\n",
       "\n",
       "    .dataframe tbody tr th {\n",
       "        vertical-align: top;\n",
       "    }\n",
       "\n",
       "    .dataframe thead th {\n",
       "        text-align: right;\n",
       "    }\n",
       "</style>\n",
       "<table border=\"1\" class=\"dataframe\">\n",
       "  <thead>\n",
       "    <tr style=\"text-align: right;\">\n",
       "      <th></th>\n",
       "      <th>Gender</th>\n",
       "      <th>Married</th>\n",
       "      <th>Education</th>\n",
       "      <th>Self_Employed</th>\n",
       "      <th>ApplicantIncome</th>\n",
       "      <th>CoapplicantIncome</th>\n",
       "      <th>LoanAmount</th>\n",
       "      <th>Loan_Amount_Term</th>\n",
       "      <th>Credit_History</th>\n",
       "      <th>Property_Area</th>\n",
       "      <th>Loan_Status</th>\n",
       "    </tr>\n",
       "  </thead>\n",
       "  <tbody>\n",
       "    <tr>\n",
       "      <th>Gender</th>\n",
       "      <td>1.000000</td>\n",
       "      <td>0.369612</td>\n",
       "      <td>-0.049258</td>\n",
       "      <td>-0.009829</td>\n",
       "      <td>0.053989</td>\n",
       "      <td>0.083946</td>\n",
       "      <td>0.106947</td>\n",
       "      <td>-0.075117</td>\n",
       "      <td>0.016337</td>\n",
       "      <td>-0.085306</td>\n",
       "      <td>0.019857</td>\n",
       "    </tr>\n",
       "    <tr>\n",
       "      <th>Married</th>\n",
       "      <td>0.369612</td>\n",
       "      <td>1.000000</td>\n",
       "      <td>-0.014223</td>\n",
       "      <td>0.001909</td>\n",
       "      <td>0.051332</td>\n",
       "      <td>0.077770</td>\n",
       "      <td>0.149519</td>\n",
       "      <td>-0.103810</td>\n",
       "      <td>0.004381</td>\n",
       "      <td>0.001875</td>\n",
       "      <td>0.089280</td>\n",
       "    </tr>\n",
       "    <tr>\n",
       "      <th>Education</th>\n",
       "      <td>-0.049258</td>\n",
       "      <td>-0.014223</td>\n",
       "      <td>1.000000</td>\n",
       "      <td>0.012333</td>\n",
       "      <td>0.140760</td>\n",
       "      <td>0.062290</td>\n",
       "      <td>0.171133</td>\n",
       "      <td>0.078784</td>\n",
       "      <td>0.081822</td>\n",
       "      <td>0.003592</td>\n",
       "      <td>0.085884</td>\n",
       "    </tr>\n",
       "    <tr>\n",
       "      <th>Self_Employed</th>\n",
       "      <td>-0.009829</td>\n",
       "      <td>0.001909</td>\n",
       "      <td>0.012333</td>\n",
       "      <td>1.000000</td>\n",
       "      <td>0.140826</td>\n",
       "      <td>-0.011152</td>\n",
       "      <td>0.123931</td>\n",
       "      <td>-0.037069</td>\n",
       "      <td>0.003883</td>\n",
       "      <td>0.019688</td>\n",
       "      <td>-0.002303</td>\n",
       "    </tr>\n",
       "    <tr>\n",
       "      <th>ApplicantIncome</th>\n",
       "      <td>0.053989</td>\n",
       "      <td>0.051332</td>\n",
       "      <td>0.140760</td>\n",
       "      <td>0.140826</td>\n",
       "      <td>1.000000</td>\n",
       "      <td>-0.116605</td>\n",
       "      <td>0.570909</td>\n",
       "      <td>-0.045306</td>\n",
       "      <td>-0.014715</td>\n",
       "      <td>-0.007894</td>\n",
       "      <td>-0.004710</td>\n",
       "    </tr>\n",
       "    <tr>\n",
       "      <th>CoapplicantIncome</th>\n",
       "      <td>0.083946</td>\n",
       "      <td>0.077770</td>\n",
       "      <td>0.062290</td>\n",
       "      <td>-0.011152</td>\n",
       "      <td>-0.116605</td>\n",
       "      <td>1.000000</td>\n",
       "      <td>0.188619</td>\n",
       "      <td>-0.059878</td>\n",
       "      <td>-0.002056</td>\n",
       "      <td>-0.028356</td>\n",
       "      <td>-0.059187</td>\n",
       "    </tr>\n",
       "    <tr>\n",
       "      <th>LoanAmount</th>\n",
       "      <td>0.106947</td>\n",
       "      <td>0.149519</td>\n",
       "      <td>0.171133</td>\n",
       "      <td>0.123931</td>\n",
       "      <td>0.570909</td>\n",
       "      <td>0.188619</td>\n",
       "      <td>1.000000</td>\n",
       "      <td>0.039447</td>\n",
       "      <td>-0.008433</td>\n",
       "      <td>0.014074</td>\n",
       "      <td>-0.037318</td>\n",
       "    </tr>\n",
       "    <tr>\n",
       "      <th>Loan_Amount_Term</th>\n",
       "      <td>-0.075117</td>\n",
       "      <td>-0.103810</td>\n",
       "      <td>0.078784</td>\n",
       "      <td>-0.037069</td>\n",
       "      <td>-0.045306</td>\n",
       "      <td>-0.059878</td>\n",
       "      <td>0.039447</td>\n",
       "      <td>1.000000</td>\n",
       "      <td>0.001470</td>\n",
       "      <td>0.090610</td>\n",
       "      <td>-0.021268</td>\n",
       "    </tr>\n",
       "    <tr>\n",
       "      <th>Credit_History</th>\n",
       "      <td>0.016337</td>\n",
       "      <td>0.004381</td>\n",
       "      <td>0.081822</td>\n",
       "      <td>0.003883</td>\n",
       "      <td>-0.014715</td>\n",
       "      <td>-0.002056</td>\n",
       "      <td>-0.008433</td>\n",
       "      <td>0.001470</td>\n",
       "      <td>1.000000</td>\n",
       "      <td>0.037822</td>\n",
       "      <td>0.561678</td>\n",
       "    </tr>\n",
       "    <tr>\n",
       "      <th>Property_Area</th>\n",
       "      <td>-0.085306</td>\n",
       "      <td>0.001875</td>\n",
       "      <td>0.003592</td>\n",
       "      <td>0.019688</td>\n",
       "      <td>-0.007894</td>\n",
       "      <td>-0.028356</td>\n",
       "      <td>0.014074</td>\n",
       "      <td>0.090610</td>\n",
       "      <td>0.037822</td>\n",
       "      <td>1.000000</td>\n",
       "      <td>0.103253</td>\n",
       "    </tr>\n",
       "    <tr>\n",
       "      <th>Loan_Status</th>\n",
       "      <td>0.019857</td>\n",
       "      <td>0.089280</td>\n",
       "      <td>0.085884</td>\n",
       "      <td>-0.002303</td>\n",
       "      <td>-0.004710</td>\n",
       "      <td>-0.059187</td>\n",
       "      <td>-0.037318</td>\n",
       "      <td>-0.021268</td>\n",
       "      <td>0.561678</td>\n",
       "      <td>0.103253</td>\n",
       "      <td>1.000000</td>\n",
       "    </tr>\n",
       "  </tbody>\n",
       "</table>\n",
       "</div>"
      ],
      "text/plain": [
       "                     Gender   Married  Education  Self_Employed  \\\n",
       "Gender             1.000000  0.369612  -0.049258      -0.009829   \n",
       "Married            0.369612  1.000000  -0.014223       0.001909   \n",
       "Education         -0.049258 -0.014223   1.000000       0.012333   \n",
       "Self_Employed     -0.009829  0.001909   0.012333       1.000000   \n",
       "ApplicantIncome    0.053989  0.051332   0.140760       0.140826   \n",
       "CoapplicantIncome  0.083946  0.077770   0.062290      -0.011152   \n",
       "LoanAmount         0.106947  0.149519   0.171133       0.123931   \n",
       "Loan_Amount_Term  -0.075117 -0.103810   0.078784      -0.037069   \n",
       "Credit_History     0.016337  0.004381   0.081822       0.003883   \n",
       "Property_Area     -0.085306  0.001875   0.003592       0.019688   \n",
       "Loan_Status        0.019857  0.089280   0.085884      -0.002303   \n",
       "\n",
       "                   ApplicantIncome  CoapplicantIncome  LoanAmount  \\\n",
       "Gender                    0.053989           0.083946    0.106947   \n",
       "Married                   0.051332           0.077770    0.149519   \n",
       "Education                 0.140760           0.062290    0.171133   \n",
       "Self_Employed             0.140826          -0.011152    0.123931   \n",
       "ApplicantIncome           1.000000          -0.116605    0.570909   \n",
       "CoapplicantIncome        -0.116605           1.000000    0.188619   \n",
       "LoanAmount                0.570909           0.188619    1.000000   \n",
       "Loan_Amount_Term         -0.045306          -0.059878    0.039447   \n",
       "Credit_History           -0.014715          -0.002056   -0.008433   \n",
       "Property_Area            -0.007894          -0.028356    0.014074   \n",
       "Loan_Status              -0.004710          -0.059187   -0.037318   \n",
       "\n",
       "                   Loan_Amount_Term  Credit_History  Property_Area  \\\n",
       "Gender                    -0.075117        0.016337      -0.085306   \n",
       "Married                   -0.103810        0.004381       0.001875   \n",
       "Education                  0.078784        0.081822       0.003592   \n",
       "Self_Employed             -0.037069        0.003883       0.019688   \n",
       "ApplicantIncome           -0.045306       -0.014715      -0.007894   \n",
       "CoapplicantIncome         -0.059878       -0.002056      -0.028356   \n",
       "LoanAmount                 0.039447       -0.008433       0.014074   \n",
       "Loan_Amount_Term           1.000000        0.001470       0.090610   \n",
       "Credit_History             0.001470        1.000000       0.037822   \n",
       "Property_Area              0.090610        0.037822       1.000000   \n",
       "Loan_Status               -0.021268        0.561678       0.103253   \n",
       "\n",
       "                   Loan_Status  \n",
       "Gender                0.019857  \n",
       "Married               0.089280  \n",
       "Education             0.085884  \n",
       "Self_Employed        -0.002303  \n",
       "ApplicantIncome      -0.004710  \n",
       "CoapplicantIncome    -0.059187  \n",
       "LoanAmount           -0.037318  \n",
       "Loan_Amount_Term     -0.021268  \n",
       "Credit_History        0.561678  \n",
       "Property_Area         0.103253  \n",
       "Loan_Status           1.000000  "
      ]
     },
     "execution_count": 53,
     "metadata": {},
     "output_type": "execute_result"
    }
   ],
   "source": [
    "df.corr()"
   ]
  },
  {
   "cell_type": "code",
   "execution_count": 54,
   "id": "97619ce2",
   "metadata": {},
   "outputs": [],
   "source": [
    "df['LoanAmount']=df['LoanAmount'].fillna(df['LoanAmount'].mean())"
   ]
  },
  {
   "cell_type": "code",
   "execution_count": 55,
   "id": "0a5df658",
   "metadata": {},
   "outputs": [
    {
     "data": {
      "text/plain": [
       "array([360., 120., 240.,  nan, 180.,  60., 300., 480.,  36.,  84.,  12.])"
      ]
     },
     "execution_count": 55,
     "metadata": {},
     "output_type": "execute_result"
    }
   ],
   "source": [
    "df[\"Loan_Amount_Term\"].unique()"
   ]
  },
  {
   "cell_type": "code",
   "execution_count": 56,
   "id": "9e5c088a",
   "metadata": {},
   "outputs": [],
   "source": [
    "df['Gender']=df['Gender'].fillna(df['Gender'].mode().iloc[0])"
   ]
  },
  {
   "cell_type": "code",
   "execution_count": 57,
   "id": "4905a4a2",
   "metadata": {},
   "outputs": [],
   "source": [
    "df = df.dropna(axis=0, subset=['Married'])"
   ]
  },
  {
   "cell_type": "code",
   "execution_count": 58,
   "id": "d8d59316",
   "metadata": {},
   "outputs": [],
   "source": [
    "df[\"Dependents\"] = df[\"Dependents\"].replace({\n",
    "    \"0\" : 0,\n",
    "    \"1\" : 1,\n",
    "    \"2\" : 2,\n",
    "    \"3+\" : 3\n",
    "})"
   ]
  },
  {
   "cell_type": "code",
   "execution_count": 59,
   "id": "6200140f",
   "metadata": {},
   "outputs": [],
   "source": [
    "df = df.dropna(axis=0, subset=['Dependents'])"
   ]
  },
  {
   "cell_type": "code",
   "execution_count": 60,
   "id": "9403971a",
   "metadata": {},
   "outputs": [],
   "source": [
    "df = df.dropna(axis=0, subset=['Self_Employed'])"
   ]
  },
  {
   "cell_type": "code",
   "execution_count": 61,
   "id": "c8715ca6",
   "metadata": {},
   "outputs": [],
   "source": [
    "df['Loan_Amount_Term']=df['Loan_Amount_Term'].fillna(df['Loan_Amount_Term'].mean())"
   ]
  },
  {
   "cell_type": "code",
   "execution_count": 62,
   "id": "f65d624f",
   "metadata": {},
   "outputs": [],
   "source": [
    "df['Credit_History'] = df['Credit_History'].fillna(0)"
   ]
  },
  {
   "cell_type": "code",
   "execution_count": 63,
   "id": "b0b1bec4",
   "metadata": {
    "scrolled": true
   },
   "outputs": [
    {
     "data": {
      "text/plain": [
       "Gender               0\n",
       "Married              0\n",
       "Dependents           0\n",
       "Education            0\n",
       "Self_Employed        0\n",
       "ApplicantIncome      0\n",
       "CoapplicantIncome    0\n",
       "LoanAmount           0\n",
       "Loan_Amount_Term     0\n",
       "Credit_History       0\n",
       "Property_Area        0\n",
       "Loan_Status          0\n",
       "dtype: int64"
      ]
     },
     "execution_count": 63,
     "metadata": {},
     "output_type": "execute_result"
    }
   ],
   "source": [
    "df.isnull().sum()"
   ]
  },
  {
   "cell_type": "code",
   "execution_count": 64,
   "id": "56ef99ca",
   "metadata": {
    "scrolled": true
   },
   "outputs": [
    {
     "name": "stdout",
     "output_type": "stream",
     "text": [
      "<class 'pandas.core.frame.DataFrame'>\n",
      "Int64Index: 567 entries, 0 to 613\n",
      "Data columns (total 12 columns):\n",
      " #   Column             Non-Null Count  Dtype  \n",
      "---  ------             --------------  -----  \n",
      " 0   Gender             567 non-null    float64\n",
      " 1   Married            567 non-null    float64\n",
      " 2   Dependents         567 non-null    float64\n",
      " 3   Education          567 non-null    int64  \n",
      " 4   Self_Employed      567 non-null    float64\n",
      " 5   ApplicantIncome    567 non-null    int64  \n",
      " 6   CoapplicantIncome  567 non-null    float64\n",
      " 7   LoanAmount         567 non-null    float64\n",
      " 8   Loan_Amount_Term   567 non-null    float64\n",
      " 9   Credit_History     567 non-null    float64\n",
      " 10  Property_Area      567 non-null    int64  \n",
      " 11  Loan_Status        567 non-null    int64  \n",
      "dtypes: float64(8), int64(4)\n",
      "memory usage: 57.6 KB\n"
     ]
    }
   ],
   "source": [
    "df.info()"
   ]
  },
  {
   "cell_type": "code",
   "execution_count": 65,
   "id": "0142b4de",
   "metadata": {
    "scrolled": true
   },
   "outputs": [
    {
     "data": {
      "text/html": [
       "<div>\n",
       "<style scoped>\n",
       "    .dataframe tbody tr th:only-of-type {\n",
       "        vertical-align: middle;\n",
       "    }\n",
       "\n",
       "    .dataframe tbody tr th {\n",
       "        vertical-align: top;\n",
       "    }\n",
       "\n",
       "    .dataframe thead th {\n",
       "        text-align: right;\n",
       "    }\n",
       "</style>\n",
       "<table border=\"1\" class=\"dataframe\">\n",
       "  <thead>\n",
       "    <tr style=\"text-align: right;\">\n",
       "      <th></th>\n",
       "      <th>Gender</th>\n",
       "      <th>Married</th>\n",
       "      <th>Dependents</th>\n",
       "      <th>Education</th>\n",
       "      <th>Self_Employed</th>\n",
       "      <th>ApplicantIncome</th>\n",
       "      <th>CoapplicantIncome</th>\n",
       "      <th>LoanAmount</th>\n",
       "      <th>Loan_Amount_Term</th>\n",
       "      <th>Credit_History</th>\n",
       "      <th>Property_Area</th>\n",
       "      <th>Loan_Status</th>\n",
       "    </tr>\n",
       "  </thead>\n",
       "  <tbody>\n",
       "    <tr>\n",
       "      <th>Gender</th>\n",
       "      <td>1.000000</td>\n",
       "      <td>0.361607</td>\n",
       "      <td>0.201488</td>\n",
       "      <td>-0.045588</td>\n",
       "      <td>-0.009925</td>\n",
       "      <td>0.051709</td>\n",
       "      <td>0.158619</td>\n",
       "      <td>0.116226</td>\n",
       "      <td>-0.092342</td>\n",
       "      <td>0.037341</td>\n",
       "      <td>-0.076717</td>\n",
       "      <td>0.024579</td>\n",
       "    </tr>\n",
       "    <tr>\n",
       "      <th>Married</th>\n",
       "      <td>0.361607</td>\n",
       "      <td>1.000000</td>\n",
       "      <td>0.356080</td>\n",
       "      <td>-0.005798</td>\n",
       "      <td>-0.005192</td>\n",
       "      <td>0.044495</td>\n",
       "      <td>0.119244</td>\n",
       "      <td>0.160760</td>\n",
       "      <td>-0.115514</td>\n",
       "      <td>-0.014937</td>\n",
       "      <td>-0.001360</td>\n",
       "      <td>0.097169</td>\n",
       "    </tr>\n",
       "    <tr>\n",
       "      <th>Dependents</th>\n",
       "      <td>0.201488</td>\n",
       "      <td>0.356080</td>\n",
       "      <td>1.000000</td>\n",
       "      <td>-0.066523</td>\n",
       "      <td>0.057867</td>\n",
       "      <td>0.150880</td>\n",
       "      <td>-0.032217</td>\n",
       "      <td>0.173161</td>\n",
       "      <td>-0.099057</td>\n",
       "      <td>-0.014823</td>\n",
       "      <td>-0.002244</td>\n",
       "      <td>0.010448</td>\n",
       "    </tr>\n",
       "    <tr>\n",
       "      <th>Education</th>\n",
       "      <td>-0.045588</td>\n",
       "      <td>-0.005798</td>\n",
       "      <td>-0.066523</td>\n",
       "      <td>1.000000</td>\n",
       "      <td>0.018330</td>\n",
       "      <td>0.143472</td>\n",
       "      <td>0.070687</td>\n",
       "      <td>0.169053</td>\n",
       "      <td>0.095043</td>\n",
       "      <td>0.094416</td>\n",
       "      <td>0.022590</td>\n",
       "      <td>0.085549</td>\n",
       "    </tr>\n",
       "    <tr>\n",
       "      <th>Self_Employed</th>\n",
       "      <td>-0.009925</td>\n",
       "      <td>-0.005192</td>\n",
       "      <td>0.057867</td>\n",
       "      <td>0.018330</td>\n",
       "      <td>1.000000</td>\n",
       "      <td>0.143150</td>\n",
       "      <td>-0.016187</td>\n",
       "      <td>0.126595</td>\n",
       "      <td>-0.036978</td>\n",
       "      <td>-0.013138</td>\n",
       "      <td>0.019368</td>\n",
       "      <td>-0.000289</td>\n",
       "    </tr>\n",
       "    <tr>\n",
       "      <th>ApplicantIncome</th>\n",
       "      <td>0.051709</td>\n",
       "      <td>0.044495</td>\n",
       "      <td>0.150880</td>\n",
       "      <td>0.143472</td>\n",
       "      <td>0.143150</td>\n",
       "      <td>1.000000</td>\n",
       "      <td>-0.113498</td>\n",
       "      <td>0.558663</td>\n",
       "      <td>-0.008955</td>\n",
       "      <td>-0.003095</td>\n",
       "      <td>0.010816</td>\n",
       "      <td>-0.018224</td>\n",
       "    </tr>\n",
       "    <tr>\n",
       "      <th>CoapplicantIncome</th>\n",
       "      <td>0.158619</td>\n",
       "      <td>0.119244</td>\n",
       "      <td>-0.032217</td>\n",
       "      <td>0.070687</td>\n",
       "      <td>-0.016187</td>\n",
       "      <td>-0.113498</td>\n",
       "      <td>1.000000</td>\n",
       "      <td>0.173430</td>\n",
       "      <td>-0.010531</td>\n",
       "      <td>-0.023745</td>\n",
       "      <td>-0.007493</td>\n",
       "      <td>-0.037306</td>\n",
       "    </tr>\n",
       "    <tr>\n",
       "      <th>LoanAmount</th>\n",
       "      <td>0.116226</td>\n",
       "      <td>0.160760</td>\n",
       "      <td>0.173161</td>\n",
       "      <td>0.169053</td>\n",
       "      <td>0.126595</td>\n",
       "      <td>0.558663</td>\n",
       "      <td>0.173430</td>\n",
       "      <td>1.000000</td>\n",
       "      <td>0.063145</td>\n",
       "      <td>-0.024779</td>\n",
       "      <td>0.031721</td>\n",
       "      <td>-0.034771</td>\n",
       "    </tr>\n",
       "    <tr>\n",
       "      <th>Loan_Amount_Term</th>\n",
       "      <td>-0.092342</td>\n",
       "      <td>-0.115514</td>\n",
       "      <td>-0.099057</td>\n",
       "      <td>0.095043</td>\n",
       "      <td>-0.036978</td>\n",
       "      <td>-0.008955</td>\n",
       "      <td>-0.010531</td>\n",
       "      <td>0.063145</td>\n",
       "      <td>1.000000</td>\n",
       "      <td>0.015740</td>\n",
       "      <td>0.079358</td>\n",
       "      <td>-0.010837</td>\n",
       "    </tr>\n",
       "    <tr>\n",
       "      <th>Credit_History</th>\n",
       "      <td>0.037341</td>\n",
       "      <td>-0.014937</td>\n",
       "      <td>-0.014823</td>\n",
       "      <td>0.094416</td>\n",
       "      <td>-0.013138</td>\n",
       "      <td>-0.003095</td>\n",
       "      <td>-0.023745</td>\n",
       "      <td>-0.024779</td>\n",
       "      <td>0.015740</td>\n",
       "      <td>1.000000</td>\n",
       "      <td>0.048553</td>\n",
       "      <td>0.404924</td>\n",
       "    </tr>\n",
       "    <tr>\n",
       "      <th>Property_Area</th>\n",
       "      <td>-0.076717</td>\n",
       "      <td>-0.001360</td>\n",
       "      <td>-0.002244</td>\n",
       "      <td>0.022590</td>\n",
       "      <td>0.019368</td>\n",
       "      <td>0.010816</td>\n",
       "      <td>-0.007493</td>\n",
       "      <td>0.031721</td>\n",
       "      <td>0.079358</td>\n",
       "      <td>0.048553</td>\n",
       "      <td>1.000000</td>\n",
       "      <td>0.102737</td>\n",
       "    </tr>\n",
       "    <tr>\n",
       "      <th>Loan_Status</th>\n",
       "      <td>0.024579</td>\n",
       "      <td>0.097169</td>\n",
       "      <td>0.010448</td>\n",
       "      <td>0.085549</td>\n",
       "      <td>-0.000289</td>\n",
       "      <td>-0.018224</td>\n",
       "      <td>-0.037306</td>\n",
       "      <td>-0.034771</td>\n",
       "      <td>-0.010837</td>\n",
       "      <td>0.404924</td>\n",
       "      <td>0.102737</td>\n",
       "      <td>1.000000</td>\n",
       "    </tr>\n",
       "  </tbody>\n",
       "</table>\n",
       "</div>"
      ],
      "text/plain": [
       "                     Gender   Married  Dependents  Education  Self_Employed  \\\n",
       "Gender             1.000000  0.361607    0.201488  -0.045588      -0.009925   \n",
       "Married            0.361607  1.000000    0.356080  -0.005798      -0.005192   \n",
       "Dependents         0.201488  0.356080    1.000000  -0.066523       0.057867   \n",
       "Education         -0.045588 -0.005798   -0.066523   1.000000       0.018330   \n",
       "Self_Employed     -0.009925 -0.005192    0.057867   0.018330       1.000000   \n",
       "ApplicantIncome    0.051709  0.044495    0.150880   0.143472       0.143150   \n",
       "CoapplicantIncome  0.158619  0.119244   -0.032217   0.070687      -0.016187   \n",
       "LoanAmount         0.116226  0.160760    0.173161   0.169053       0.126595   \n",
       "Loan_Amount_Term  -0.092342 -0.115514   -0.099057   0.095043      -0.036978   \n",
       "Credit_History     0.037341 -0.014937   -0.014823   0.094416      -0.013138   \n",
       "Property_Area     -0.076717 -0.001360   -0.002244   0.022590       0.019368   \n",
       "Loan_Status        0.024579  0.097169    0.010448   0.085549      -0.000289   \n",
       "\n",
       "                   ApplicantIncome  CoapplicantIncome  LoanAmount  \\\n",
       "Gender                    0.051709           0.158619    0.116226   \n",
       "Married                   0.044495           0.119244    0.160760   \n",
       "Dependents                0.150880          -0.032217    0.173161   \n",
       "Education                 0.143472           0.070687    0.169053   \n",
       "Self_Employed             0.143150          -0.016187    0.126595   \n",
       "ApplicantIncome           1.000000          -0.113498    0.558663   \n",
       "CoapplicantIncome        -0.113498           1.000000    0.173430   \n",
       "LoanAmount                0.558663           0.173430    1.000000   \n",
       "Loan_Amount_Term         -0.008955          -0.010531    0.063145   \n",
       "Credit_History           -0.003095          -0.023745   -0.024779   \n",
       "Property_Area             0.010816          -0.007493    0.031721   \n",
       "Loan_Status              -0.018224          -0.037306   -0.034771   \n",
       "\n",
       "                   Loan_Amount_Term  Credit_History  Property_Area  \\\n",
       "Gender                    -0.092342        0.037341      -0.076717   \n",
       "Married                   -0.115514       -0.014937      -0.001360   \n",
       "Dependents                -0.099057       -0.014823      -0.002244   \n",
       "Education                  0.095043        0.094416       0.022590   \n",
       "Self_Employed             -0.036978       -0.013138       0.019368   \n",
       "ApplicantIncome           -0.008955       -0.003095       0.010816   \n",
       "CoapplicantIncome         -0.010531       -0.023745      -0.007493   \n",
       "LoanAmount                 0.063145       -0.024779       0.031721   \n",
       "Loan_Amount_Term           1.000000        0.015740       0.079358   \n",
       "Credit_History             0.015740        1.000000       0.048553   \n",
       "Property_Area              0.079358        0.048553       1.000000   \n",
       "Loan_Status               -0.010837        0.404924       0.102737   \n",
       "\n",
       "                   Loan_Status  \n",
       "Gender                0.024579  \n",
       "Married               0.097169  \n",
       "Dependents            0.010448  \n",
       "Education             0.085549  \n",
       "Self_Employed        -0.000289  \n",
       "ApplicantIncome      -0.018224  \n",
       "CoapplicantIncome    -0.037306  \n",
       "LoanAmount           -0.034771  \n",
       "Loan_Amount_Term     -0.010837  \n",
       "Credit_History        0.404924  \n",
       "Property_Area         0.102737  \n",
       "Loan_Status           1.000000  "
      ]
     },
     "execution_count": 65,
     "metadata": {},
     "output_type": "execute_result"
    }
   ],
   "source": [
    "df.corr()"
   ]
  },
  {
   "cell_type": "code",
   "execution_count": 66,
   "id": "32d3f92c",
   "metadata": {},
   "outputs": [
    {
     "data": {
      "image/png": "[encoded data removed]",
      "text/plain": [
       "<Figure size 1152x360 with 2 Axes>"
      ]
     },
     "metadata": {
      "needs_background": "light"
     },
     "output_type": "display_data"
    }
   ],
   "source": [
    "plt.figure(figsize = (16,5))\n",
    "dataplot = sb.heatmap(df.corr(), cmap=\"YlGnBu\", annot=True)"
   ]
  },
  {
   "cell_type": "code",
   "execution_count": 67,
   "id": "6a53fcf2",
   "metadata": {},
   "outputs": [],
   "source": [
    "z_score = stats.zscore(df)\n",
    "abs_z_scores = np.abs(z_score)\n",
    "filtered_entries = (abs_z_scores < 3).all(axis=1)\n",
    "new_df = df[filtered_entries]"
   ]
  },
  {
   "cell_type": "code",
   "execution_count": 68,
   "id": "1ae47139",
   "metadata": {
    "scrolled": true
   },
   "outputs": [
    {
     "data": {
      "text/html": [
       "<div>\n",
       "<style scoped>\n",
       "    .dataframe tbody tr th:only-of-type {\n",
       "        vertical-align: middle;\n",
       "    }\n",
       "\n",
       "    .dataframe tbody tr th {\n",
       "        vertical-align: top;\n",
       "    }\n",
       "\n",
       "    .dataframe thead th {\n",
       "        text-align: right;\n",
       "    }\n",
       "</style>\n",
       "<table border=\"1\" class=\"dataframe\">\n",
       "  <thead>\n",
       "    <tr style=\"text-align: right;\">\n",
       "      <th></th>\n",
       "      <th>Gender</th>\n",
       "      <th>Married</th>\n",
       "      <th>Dependents</th>\n",
       "      <th>Education</th>\n",
       "      <th>Self_Employed</th>\n",
       "      <th>ApplicantIncome</th>\n",
       "      <th>CoapplicantIncome</th>\n",
       "      <th>LoanAmount</th>\n",
       "      <th>Loan_Amount_Term</th>\n",
       "      <th>Credit_History</th>\n",
       "      <th>Property_Area</th>\n",
       "      <th>Loan_Status</th>\n",
       "    </tr>\n",
       "  </thead>\n",
       "  <tbody>\n",
       "    <tr>\n",
       "      <th>0</th>\n",
       "      <td>1.0</td>\n",
       "      <td>0.0</td>\n",
       "      <td>0.0</td>\n",
       "      <td>1</td>\n",
       "      <td>0.0</td>\n",
       "      <td>5849</td>\n",
       "      <td>0.0</td>\n",
       "      <td>146.412162</td>\n",
       "      <td>360.0</td>\n",
       "      <td>1.0</td>\n",
       "      <td>0</td>\n",
       "      <td>1</td>\n",
       "    </tr>\n",
       "    <tr>\n",
       "      <th>1</th>\n",
       "      <td>1.0</td>\n",
       "      <td>1.0</td>\n",
       "      <td>1.0</td>\n",
       "      <td>1</td>\n",
       "      <td>0.0</td>\n",
       "      <td>4583</td>\n",
       "      <td>1508.0</td>\n",
       "      <td>128.000000</td>\n",
       "      <td>360.0</td>\n",
       "      <td>1.0</td>\n",
       "      <td>1</td>\n",
       "      <td>0</td>\n",
       "    </tr>\n",
       "    <tr>\n",
       "      <th>2</th>\n",
       "      <td>1.0</td>\n",
       "      <td>1.0</td>\n",
       "      <td>0.0</td>\n",
       "      <td>1</td>\n",
       "      <td>1.0</td>\n",
       "      <td>3000</td>\n",
       "      <td>0.0</td>\n",
       "      <td>66.000000</td>\n",
       "      <td>360.0</td>\n",
       "      <td>1.0</td>\n",
       "      <td>0</td>\n",
       "      <td>1</td>\n",
       "    </tr>\n",
       "    <tr>\n",
       "      <th>3</th>\n",
       "      <td>1.0</td>\n",
       "      <td>1.0</td>\n",
       "      <td>0.0</td>\n",
       "      <td>0</td>\n",
       "      <td>0.0</td>\n",
       "      <td>2583</td>\n",
       "      <td>2358.0</td>\n",
       "      <td>120.000000</td>\n",
       "      <td>360.0</td>\n",
       "      <td>1.0</td>\n",
       "      <td>0</td>\n",
       "      <td>1</td>\n",
       "    </tr>\n",
       "    <tr>\n",
       "      <th>4</th>\n",
       "      <td>1.0</td>\n",
       "      <td>0.0</td>\n",
       "      <td>0.0</td>\n",
       "      <td>1</td>\n",
       "      <td>0.0</td>\n",
       "      <td>6000</td>\n",
       "      <td>0.0</td>\n",
       "      <td>141.000000</td>\n",
       "      <td>360.0</td>\n",
       "      <td>1.0</td>\n",
       "      <td>0</td>\n",
       "      <td>1</td>\n",
       "    </tr>\n",
       "  </tbody>\n",
       "</table>\n",
       "</div>"
      ],
      "text/plain": [
       "   Gender  Married  Dependents  Education  Self_Employed  ApplicantIncome  \\\n",
       "0     1.0      0.0         0.0          1            0.0             5849   \n",
       "1     1.0      1.0         1.0          1            0.0             4583   \n",
       "2     1.0      1.0         0.0          1            1.0             3000   \n",
       "3     1.0      1.0         0.0          0            0.0             2583   \n",
       "4     1.0      0.0         0.0          1            0.0             6000   \n",
       "\n",
       "   CoapplicantIncome  LoanAmount  Loan_Amount_Term  Credit_History  \\\n",
       "0                0.0  146.412162             360.0             1.0   \n",
       "1             1508.0  128.000000             360.0             1.0   \n",
       "2                0.0   66.000000             360.0             1.0   \n",
       "3             2358.0  120.000000             360.0             1.0   \n",
       "4                0.0  141.000000             360.0             1.0   \n",
       "\n",
       "   Property_Area  Loan_Status  \n",
       "0              0            1  \n",
       "1              1            0  \n",
       "2              0            1  \n",
       "3              0            1  \n",
       "4              0            1  "
      ]
     },
     "execution_count": 68,
     "metadata": {},
     "output_type": "execute_result"
    }
   ],
   "source": [
    "new_df.head()"
   ]
  },
  {
   "cell_type": "code",
   "execution_count": 69,
   "id": "3066cda6",
   "metadata": {},
   "outputs": [],
   "source": [
    "df.drop('Dependents' , axis = 1 , inplace = True)\n",
    "mms = MinMaxScaler()\n",
    "new_df = mms.fit_transform(new_df)"
   ]
  },
  {
   "cell_type": "code",
   "execution_count": 70,
   "id": "81f98eb2",
   "metadata": {},
   "outputs": [],
   "source": [
    "new_df = pd.DataFrame(new_df)"
   ]
  },
  {
   "cell_type": "code",
   "execution_count": 71,
   "id": "dacc3464",
   "metadata": {},
   "outputs": [],
   "source": [
    "tree_df = new_df"
   ]
  },
  {
   "cell_type": "code",
   "execution_count": 72,
   "id": "af7c069f",
   "metadata": {
    "scrolled": false
   },
   "outputs": [
    {
     "data": {
      "text/html": [
       "<div>\n",
       "<style scoped>\n",
       "    .dataframe tbody tr th:only-of-type {\n",
       "        vertical-align: middle;\n",
       "    }\n",
       "\n",
       "    .dataframe tbody tr th {\n",
       "        vertical-align: top;\n",
       "    }\n",
       "\n",
       "    .dataframe thead th {\n",
       "        text-align: right;\n",
       "    }\n",
       "</style>\n",
       "<table border=\"1\" class=\"dataframe\">\n",
       "  <thead>\n",
       "    <tr style=\"text-align: right;\">\n",
       "      <th></th>\n",
       "      <th>0</th>\n",
       "      <th>1</th>\n",
       "      <th>2</th>\n",
       "      <th>3</th>\n",
       "      <th>4</th>\n",
       "      <th>5</th>\n",
       "      <th>6</th>\n",
       "      <th>7</th>\n",
       "      <th>8</th>\n",
       "      <th>9</th>\n",
       "      <th>10</th>\n",
       "      <th>11</th>\n",
       "    </tr>\n",
       "  </thead>\n",
       "  <tbody>\n",
       "    <tr>\n",
       "      <th>0</th>\n",
       "      <td>1.0</td>\n",
       "      <td>0.0</td>\n",
       "      <td>0.000000</td>\n",
       "      <td>1.0</td>\n",
       "      <td>0.0</td>\n",
       "      <td>0.277770</td>\n",
       "      <td>0.000000</td>\n",
       "      <td>0.370383</td>\n",
       "      <td>0.6</td>\n",
       "      <td>1.0</td>\n",
       "      <td>0.0</td>\n",
       "      <td>1.0</td>\n",
       "    </tr>\n",
       "    <tr>\n",
       "      <th>1</th>\n",
       "      <td>1.0</td>\n",
       "      <td>1.0</td>\n",
       "      <td>0.333333</td>\n",
       "      <td>1.0</td>\n",
       "      <td>0.0</td>\n",
       "      <td>0.216065</td>\n",
       "      <td>0.167929</td>\n",
       "      <td>0.320755</td>\n",
       "      <td>0.6</td>\n",
       "      <td>1.0</td>\n",
       "      <td>0.5</td>\n",
       "      <td>0.0</td>\n",
       "    </tr>\n",
       "    <tr>\n",
       "      <th>2</th>\n",
       "      <td>1.0</td>\n",
       "      <td>1.0</td>\n",
       "      <td>0.000000</td>\n",
       "      <td>1.0</td>\n",
       "      <td>1.0</td>\n",
       "      <td>0.138909</td>\n",
       "      <td>0.000000</td>\n",
       "      <td>0.153639</td>\n",
       "      <td>0.6</td>\n",
       "      <td>1.0</td>\n",
       "      <td>0.0</td>\n",
       "      <td>1.0</td>\n",
       "    </tr>\n",
       "    <tr>\n",
       "      <th>3</th>\n",
       "      <td>1.0</td>\n",
       "      <td>1.0</td>\n",
       "      <td>0.000000</td>\n",
       "      <td>0.0</td>\n",
       "      <td>0.0</td>\n",
       "      <td>0.118585</td>\n",
       "      <td>0.262584</td>\n",
       "      <td>0.299191</td>\n",
       "      <td>0.6</td>\n",
       "      <td>1.0</td>\n",
       "      <td>0.0</td>\n",
       "      <td>1.0</td>\n",
       "    </tr>\n",
       "    <tr>\n",
       "      <th>4</th>\n",
       "      <td>1.0</td>\n",
       "      <td>0.0</td>\n",
       "      <td>0.000000</td>\n",
       "      <td>1.0</td>\n",
       "      <td>0.0</td>\n",
       "      <td>0.285129</td>\n",
       "      <td>0.000000</td>\n",
       "      <td>0.355795</td>\n",
       "      <td>0.6</td>\n",
       "      <td>1.0</td>\n",
       "      <td>0.0</td>\n",
       "      <td>1.0</td>\n",
       "    </tr>\n",
       "  </tbody>\n",
       "</table>\n",
       "</div>"
      ],
      "text/plain": [
       "    0    1         2    3    4         5         6         7    8    9    10  \\\n",
       "0  1.0  0.0  0.000000  1.0  0.0  0.277770  0.000000  0.370383  0.6  1.0  0.0   \n",
       "1  1.0  1.0  0.333333  1.0  0.0  0.216065  0.167929  0.320755  0.6  1.0  0.5   \n",
       "2  1.0  1.0  0.000000  1.0  1.0  0.138909  0.000000  0.153639  0.6  1.0  0.0   \n",
       "3  1.0  1.0  0.000000  0.0  0.0  0.118585  0.262584  0.299191  0.6  1.0  0.0   \n",
       "4  1.0  0.0  0.000000  1.0  0.0  0.285129  0.000000  0.355795  0.6  1.0  0.0   \n",
       "\n",
       "    11  \n",
       "0  1.0  \n",
       "1  0.0  \n",
       "2  1.0  \n",
       "3  1.0  \n",
       "4  1.0  "
      ]
     },
     "execution_count": 72,
     "metadata": {},
     "output_type": "execute_result"
    }
   ],
   "source": [
    "new_df.head()"
   ]
  },
  {
   "cell_type": "markdown",
   "id": "73786477",
   "metadata": {},
   "source": [
    "<h1>Logistic Regression<h1>"
   ]
  },
  {
   "cell_type": "code",
   "execution_count": 73,
   "id": "a7234118",
   "metadata": {},
   "outputs": [],
   "source": [
    "from sklearn import metrics\n",
    "import sklearn\n",
    "from sklearn.model_selection import train_test_split\n",
    "import matplotlib.pyplot as plt\n",
    "from sklearn.linear_model import LogisticRegression\n",
    "from sklearn.metrics import mean_squared_error , classification_report , confusion_matrix ,r2_score"
   ]
  },
  {
   "cell_type": "code",
   "execution_count": 74,
   "id": "82cc01f1",
   "metadata": {},
   "outputs": [],
   "source": [
    "y = new_df[11]"
   ]
  },
  {
   "cell_type": "code",
   "execution_count": 75,
   "id": "4252d36e",
   "metadata": {},
   "outputs": [],
   "source": [
    "x = new_df.drop(11, axis = 1)"
   ]
  },
  {
   "cell_type": "code",
   "execution_count": 76,
   "id": "281440e0",
   "metadata": {},
   "outputs": [],
   "source": [
    "x_train,x_test,y_train,y_test = train_test_split(x,y,random_state=70,train_size = 0.8)"
   ]
  },
  {
   "cell_type": "code",
   "execution_count": 77,
   "id": "7c39fff4",
   "metadata": {},
   "outputs": [
    {
     "name": "stdout",
     "output_type": "stream",
     "text": [
      "train size X :  (426, 11)\n",
      "train size y :  (426,)\n",
      "test size X :  (107, 11)\n",
      "test size y :  (107,)\n"
     ]
    }
   ],
   "source": [
    "print(\"train size X : \",x_train.shape)\n",
    "print(\"train size y : \",y_train.shape)\n",
    "print(\"test size X : \",x_test.shape)\n",
    "print(\"test size y : \",y_test.shape)"
   ]
  },
  {
   "cell_type": "code",
   "execution_count": 78,
   "id": "d436386a",
   "metadata": {},
   "outputs": [],
   "source": [
    "main_model = LogisticRegression()"
   ]
  },
  {
   "cell_type": "code",
   "execution_count": 79,
   "id": "d720b550",
   "metadata": {},
   "outputs": [
    {
     "data": {
      "text/plain": [
       "LogisticRegression(class_weight={0: 0.5, 1: 0.9})"
      ]
     },
     "execution_count": 79,
     "metadata": {},
     "output_type": "execute_result"
    }
   ],
   "source": [
    "main_model = LogisticRegression(class_weight={0:0.5,1:0.9} , C = 1.0 , penalty = \"l2\")\n",
    "main_model.fit(x_train,y_train)"
   ]
  },
  {
   "cell_type": "code",
   "execution_count": 80,
   "id": "fb326b28",
   "metadata": {},
   "outputs": [],
   "source": [
    "y_predict = main_model.predict(x_test)"
   ]
  },
  {
   "cell_type": "code",
   "execution_count": 81,
   "id": "3d6cde16",
   "metadata": {},
   "outputs": [],
   "source": [
    "report = classification_report(y_test,y_predict)\n",
    "conf_m = confusion_matrix(y_test,y_predict)\n",
    "squared_error = mean_squared_error(y_test,y_predict)\n",
    "r2 = r2_score(y_test,y_predict)"
   ]
  },
  {
   "cell_type": "code",
   "execution_count": 82,
   "id": "70490199",
   "metadata": {},
   "outputs": [
    {
     "name": "stdout",
     "output_type": "stream",
     "text": [
      "Accuracy :  0.7663551401869159\n",
      "\n",
      "Confusion_m : \n",
      "[[11 21]\n",
      " [ 4 71]]\n",
      "\n",
      "Classification Report : \n",
      "              precision    recall  f1-score   support\n",
      "\n",
      "         0.0       0.73      0.34      0.47        32\n",
      "         1.0       0.77      0.95      0.85        75\n",
      "\n",
      "    accuracy                           0.77       107\n",
      "   macro avg       0.75      0.65      0.66       107\n",
      "weighted avg       0.76      0.77      0.74       107\n",
      "\n",
      "\n",
      "Mean Square Error :  0.2336448598130841\n",
      "\n"
     ]
    }
   ],
   "source": [
    "print(\"Accuracy : \" , metrics.accuracy_score(y_test,y_predict) , end = '\\n\\n')\n",
    "print(\"Confusion_m : \" , conf_m ,sep = '\\n' , end = '\\n\\n')\n",
    "print(\"Classification Report : \" , report , sep ='\\n', end = '\\n\\n')\n",
    "print(\"Mean Square Error : \" , squared_error , end = '\\n\\n')"
   ]
  },
  {
   "cell_type": "markdown",
   "id": "30d70597",
   "metadata": {},
   "source": [
    "<h1>SVM<h1>"
   ]
  },
  {
   "cell_type": "code",
   "execution_count": 83,
   "id": "c30f988f",
   "metadata": {},
   "outputs": [],
   "source": [
    "from sklearn.svm import SVC"
   ]
  },
  {
   "cell_type": "code",
   "execution_count": 84,
   "id": "6ef46ae3",
   "metadata": {},
   "outputs": [],
   "source": [
    "x_train,x_test,y_train,y_test = train_test_split(x,y,random_state=84,train_size = 0.8)"
   ]
  },
  {
   "cell_type": "code",
   "execution_count": 85,
   "id": "90b151a5",
   "metadata": {},
   "outputs": [
    {
     "data": {
      "text/plain": [
       "SVC()"
      ]
     },
     "execution_count": 85,
     "metadata": {},
     "output_type": "execute_result"
    }
   ],
   "source": [
    "svm_train = SVC()\n",
    "svm_train.fit(x_train,y_train)"
   ]
  },
  {
   "cell_type": "code",
   "execution_count": 86,
   "id": "9818a39b",
   "metadata": {},
   "outputs": [],
   "source": [
    "y_predict = svm_train.predict(x_test)"
   ]
  },
  {
   "cell_type": "code",
   "execution_count": 87,
   "id": "4322bff8",
   "metadata": {},
   "outputs": [],
   "source": [
    "report = classification_report(y_test,y_predict)\n",
    "conf_m = confusion_matrix(y_test,y_predict)\n",
    "squared_error = mean_squared_error(y_test,y_predict)"
   ]
  },
  {
   "cell_type": "code",
   "execution_count": 88,
   "id": "6ae45f1b",
   "metadata": {},
   "outputs": [
    {
     "name": "stdout",
     "output_type": "stream",
     "text": [
      "Accuracy :  0.8411214953271028\n",
      "\n",
      "Confusion_m : \n",
      "[[16 11]\n",
      " [ 6 74]]\n",
      "\n",
      "Classification Report : \n",
      "              precision    recall  f1-score   support\n",
      "\n",
      "         0.0       0.73      0.59      0.65        27\n",
      "         1.0       0.87      0.93      0.90        80\n",
      "\n",
      "    accuracy                           0.84       107\n",
      "   macro avg       0.80      0.76      0.78       107\n",
      "weighted avg       0.83      0.84      0.84       107\n",
      "\n",
      "\n",
      "Mean Square Error :  0.1588785046728972\n",
      "\n"
     ]
    }
   ],
   "source": [
    "print(\"Accuracy : \" , metrics.accuracy_score(y_test,y_predict) , end = '\\n\\n')\n",
    "print(\"Confusion_m : \" , conf_m ,sep = '\\n' , end = '\\n\\n')\n",
    "print(\"Classification Report : \" , report , sep ='\\n', end = '\\n\\n')\n",
    "print(\"Mean Square Error : \" , squared_error , end = '\\n\\n')"
   ]
  },
  {
   "cell_type": "markdown",
   "id": "3142825b",
   "metadata": {},
   "source": [
    "<h1>Decision Tree<h1>"
   ]
  },
  {
   "cell_type": "code",
   "execution_count": 89,
   "id": "57ac7423",
   "metadata": {},
   "outputs": [],
   "source": [
    "from sklearn import tree"
   ]
  },
  {
   "cell_type": "code",
   "execution_count": 90,
   "id": "aaa07ba8",
   "metadata": {},
   "outputs": [],
   "source": [
    "y = tree_df[11]\n",
    "x = tree_df[[9,10]]"
   ]
  },
  {
   "cell_type": "code",
   "execution_count": 91,
   "id": "e6b0cdc4",
   "metadata": {},
   "outputs": [],
   "source": [
    "x_train,x_test,y_train,y_test = train_test_split(x,y,random_state=93,train_size = 0.8)"
   ]
  },
  {
   "cell_type": "code",
   "execution_count": 92,
   "id": "83ae8f93",
   "metadata": {},
   "outputs": [],
   "source": [
    "Tree_Train = tree.DecisionTreeClassifier(max_depth = (3))"
   ]
  },
  {
   "cell_type": "code",
   "execution_count": 93,
   "id": "fb2a1843",
   "metadata": {},
   "outputs": [],
   "source": [
    "Tree_Train = Tree_Train.fit(x_train,y_train)\n",
    "y_predict = Tree_Train.predict(x_test)"
   ]
  },
  {
   "cell_type": "code",
   "execution_count": 94,
   "id": "8b44e68b",
   "metadata": {},
   "outputs": [],
   "source": [
    "report = classification_report(y_test,y_predict)\n",
    "conf_m = confusion_matrix(y_test,y_predict)\n",
    "squared_error = mean_squared_error(y_test,y_predict)"
   ]
  },
  {
   "cell_type": "code",
   "execution_count": 95,
   "id": "1b9e364f",
   "metadata": {},
   "outputs": [
    {
     "name": "stdout",
     "output_type": "stream",
     "text": [
      "Accuracy :  0.8411214953271028\n",
      "\n",
      "Confusion_m : \n",
      "[[21 13]\n",
      " [ 4 69]]\n",
      "\n",
      "Classification Report : \n",
      "              precision    recall  f1-score   support\n",
      "\n",
      "         0.0       0.84      0.62      0.71        34\n",
      "         1.0       0.84      0.95      0.89        73\n",
      "\n",
      "    accuracy                           0.84       107\n",
      "   macro avg       0.84      0.78      0.80       107\n",
      "weighted avg       0.84      0.84      0.83       107\n",
      "\n",
      "\n",
      "Mean Square Error :  0.1588785046728972\n",
      "\n"
     ]
    }
   ],
   "source": [
    "print(\"Accuracy : \" , metrics.accuracy_score(y_test,y_predict) , end = '\\n\\n')\n",
    "print(\"Confusion_m : \" , conf_m ,sep = '\\n' , end = '\\n\\n')\n",
    "print(\"Classification Report : \" , report , sep ='\\n', end = '\\n\\n')\n",
    "print(\"Mean Square Error : \" , squared_error , end = '\\n\\n')"
   ]
  },
  {
   "cell_type": "markdown",
   "id": "784e09fe",
   "metadata": {},
   "source": [
    "<h1>KNN algorithm Bonus<h1>"
   ]
  },
  {
   "cell_type": "code",
   "execution_count": 96,
   "id": "f43f5b4d",
   "metadata": {},
   "outputs": [],
   "source": [
    "y = new_df[11]\n",
    "x = new_df.drop(11, axis = 1)"
   ]
  },
  {
   "cell_type": "code",
   "execution_count": 97,
   "id": "3269fb71",
   "metadata": {},
   "outputs": [],
   "source": [
    "x_train,x_test,y_train,y_test = train_test_split(x,y,random_state=80,train_size = 0.8)\n",
    "knn = KNeighborsClassifier(n_neighbors=20)\n",
    "knn.fit(x_train, y_train)\n",
    "y_predict = knn.predict(x_test)"
   ]
  },
  {
   "cell_type": "code",
   "execution_count": 98,
   "id": "582ae3c9",
   "metadata": {},
   "outputs": [],
   "source": [
    "report = classification_report(y_test,y_predict)\n",
    "conf_m = confusion_matrix(y_test,y_predict)\n",
    "squared_error = mean_squared_error(y_test,y_predict)\n",
    "r2 = r2_score(y_test,y_predict)"
   ]
  },
  {
   "cell_type": "code",
   "execution_count": 99,
   "id": "6bcb877c",
   "metadata": {},
   "outputs": [
    {
     "name": "stdout",
     "output_type": "stream",
     "text": [
      "Accuracy of KNN :  0.794392523364486\n",
      "\n",
      "Confusion_m : \n",
      "[[19 15]\n",
      " [ 7 66]]\n",
      "\n",
      "Classification Report : \n",
      "              precision    recall  f1-score   support\n",
      "\n",
      "         0.0       0.73      0.56      0.63        34\n",
      "         1.0       0.81      0.90      0.86        73\n",
      "\n",
      "    accuracy                           0.79       107\n",
      "   macro avg       0.77      0.73      0.75       107\n",
      "weighted avg       0.79      0.79      0.79       107\n",
      "\n",
      "\n",
      "Mean Square Error :  0.205607476635514\n",
      "\n"
     ]
    }
   ],
   "source": [
    "print(\"Accuracy of KNN : \" , metrics.accuracy_score(y_test,y_predict) , end = '\\n\\n')\n",
    "print(\"Confusion_m : \" , conf_m ,sep = '\\n' , end = '\\n\\n')\n",
    "print(\"Classification Report : \" , report , sep ='\\n', end = '\\n\\n')\n",
    "print(\"Mean Square Error : \" , squared_error , end = '\\n\\n')"
   ]
  },
  {
   "cell_type": "markdown",
   "id": "d6943b64",
   "metadata": {},
   "source": [
    "<h1>Voting algorithm Bonus<h1>"
   ]
  },
  {
   "cell_type": "code",
   "execution_count": 100,
   "id": "2aed6bd0",
   "metadata": {},
   "outputs": [],
   "source": [
    "y = new_df[11]\n",
    "x = new_df.drop(11, axis = 1)"
   ]
  },
  {
   "cell_type": "code",
   "execution_count": 101,
   "id": "bc3d2a1d",
   "metadata": {},
   "outputs": [],
   "source": [
    "x_train,x_test,y_train,y_test = train_test_split(x,y,random_state=74,train_size = 0.8)"
   ]
  },
  {
   "cell_type": "code",
   "execution_count": 102,
   "id": "8e0e69cc",
   "metadata": {},
   "outputs": [],
   "source": [
    "clf1 = LogisticRegression(random_state=75)\n",
    "clf2 = SVC(probability=True,random_state=75)\n",
    "clf3 =  KNeighborsClassifier(n_neighbors=10)\n",
    "eclf = VotingClassifier(estimators=[('LR', clf1), ('SVM', clf2),('KNN',clf3)],\n",
    "                        voting='soft', weights=[1,1,2])"
   ]
  },
  {
   "cell_type": "code",
   "execution_count": 103,
   "id": "77ba7a5f",
   "metadata": {},
   "outputs": [],
   "source": [
    "eclf.fit(x_train, y_train)\n",
    "y_predict = eclf.predict(x_test)"
   ]
  },
  {
   "cell_type": "code",
   "execution_count": 104,
   "id": "2ff33f68",
   "metadata": {},
   "outputs": [],
   "source": [
    "report = classification_report(y_test,y_predict)\n",
    "conf_m = confusion_matrix(y_test,y_predict)\n",
    "squared_error = mean_squared_error(y_test,y_predict)\n",
    "r2 = r2_score(y_test,y_predict)"
   ]
  },
  {
   "cell_type": "code",
   "execution_count": 105,
   "id": "a92150e6",
   "metadata": {},
   "outputs": [
    {
     "name": "stdout",
     "output_type": "stream",
     "text": [
      "Accuracy of Voting :  0.8037383177570093\n",
      "\n",
      "Confusion_m : \n",
      "[[17 11]\n",
      " [10 69]]\n",
      "\n",
      "Classification Report : \n",
      "              precision    recall  f1-score   support\n",
      "\n",
      "         0.0       0.63      0.61      0.62        28\n",
      "         1.0       0.86      0.87      0.87        79\n",
      "\n",
      "    accuracy                           0.80       107\n",
      "   macro avg       0.75      0.74      0.74       107\n",
      "weighted avg       0.80      0.80      0.80       107\n",
      "\n",
      "\n",
      "Mean Square Error :  0.19626168224299065\n",
      "\n"
     ]
    }
   ],
   "source": [
    "print(\"Accuracy of Voting : \" , metrics.accuracy_score(y_test,y_predict) , end = '\\n\\n')\n",
    "print(\"Confusion_m : \" , conf_m ,sep = '\\n' , end = '\\n\\n')\n",
    "print(\"Classification Report : \" , report , sep ='\\n', end = '\\n\\n')\n",
    "print(\"Mean Square Error : \" , squared_error , end = '\\n\\n')"
   ]
  },
  {
   "cell_type": "markdown",
   "id": "e1e1ce2c",
   "metadata": {},
   "source": [
    "<h1>SVM BEST RANDOM STATE<h1>"
   ]
  },
  {
   "cell_type": "markdown",
   "id": "d20ca3e0",
   "metadata": {},
   "source": [
    "random_states = np.arange(start = 0, stop=101)\n",
    "scores = []\n",
    "for state in random_states:\n",
    "    x_train,x_test,y_train,y_test = train_test_split(x,y,random_state=state,train_size = 0.8)\n",
    "    svm_train = SVC()\n",
    "    svm_train.fit(x_train,y_train)\n",
    "    y_predict = svm_train.predict(x_test)\n",
    "    scores.append(metrics.accuracy_score(y_test,y_predict))\n",
    "results = pd.DataFrame({'random_state': random_states, 'scores': scores})\n",
    "results[results[\"scores\"] == results[\"scores\"].max()]"
   ]
  },
  {
   "cell_type": "markdown",
   "id": "a7a6b0a3",
   "metadata": {},
   "source": [
    "<h1>DECISION TREE BEST RANDOM STATE<h1>"
   ]
  },
  {
   "cell_type": "markdown",
   "id": "05aba321",
   "metadata": {},
   "source": [
    "random_states = np.arange(start = 0, stop=101)\n",
    "scores = []\n",
    "for state in random_states:\n",
    "    x_train,x_test,y_train,y_test = train_test_split(x,y,random_state=state,train_size = 0.8)\n",
    "    Tree_Train = tree.DecisionTreeClassifier()\n",
    "    Tree_Train = Tree_Train.fit(x_train,y_train)\n",
    "    y_predict = Tree_Train.predict(x_test)\n",
    "    scores.append(metrics.accuracy_score(y_test,y_predict))\n",
    "results = pd.DataFrame({'random_state': random_states, 'scores': scores})\n",
    "results[results[\"scores\"] == results[\"scores\"].max()]"
   ]
  },
  {
   "cell_type": "code",
   "execution_count": null,
   "id": "1169a659",
   "metadata": {},
   "outputs": [],
   "source": []
  }
 ],
 "metadata": {
  "kernelspec": {
   "display_name": "Python 3 (ipykernel)",
   "language": "python",
   "name": "python3"
  },
  "language_info": {
   "codemirror_mode": {
    "name": "ipython",
    "version": 3
   },
   "file_extension": ".py",
   "mimetype": "text/x-python",
   "name": "python",
   "nbconvert_exporter": "python",
   "pygments_lexer": "ipython3",
   "version": "3.9.7"
  }
 },
 "nbformat": 4,
 "nbformat_minor": 5
}
